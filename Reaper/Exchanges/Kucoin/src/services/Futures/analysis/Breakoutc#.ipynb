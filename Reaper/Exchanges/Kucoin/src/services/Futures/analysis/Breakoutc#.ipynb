{
 "cells": [
  {
   "cell_type": "code",
   "execution_count": 7,
   "metadata": {
    "dotnet_interactive": {
     "language": "csharp"
    },
    "polyglot_notebook": {
     "kernelName": "csharp"
    }
   },
   "outputs": [],
   "source": [
    "public enum PivotType { Undefined, Low, High }\n",
    "\n",
    "public record PriceInfo(DateTime Date,\n",
    "    double Open,\n",
    "    double High,\n",
    "    double Low,\n",
    "    double Close,\n",
    "    double ChannelLow,\n",
    "    double ChannelHigh,\n",
    "    PivotType PivotType,\n",
    "    double PivotValue);"
   ]
  },
  {
   "cell_type": "code",
   "execution_count": 8,
   "metadata": {
    "dotnet_interactive": {
     "language": "csharp"
    },
    "polyglot_notebook": {
     "kernelName": "csharp"
    }
   },
   "outputs": [],
   "source": [
    "using System.Globalization;\n",
    "using System.IO;\n",
    "\n",
    "List<PriceInfo> ParseCsv(string filePath)\n",
    "{\n",
    "    var records = new List<PriceInfo>();\n",
    "    // Assuming the first line of the CSV contains headers and each subsequent line is a record.\n",
    "    foreach (var line in File.ReadAllLines(filePath).Skip(1))\n",
    "    {\n",
    "        var columns = line.Split(',');\n",
    "\n",
    "        var pivotType = string.IsNullOrWhiteSpace(columns[7]) \n",
    "            ? PivotType.Undefined \n",
    "            : Enum.Parse<PivotType>(columns[7]);\n",
    "\n",
    "        double pivotValue = pivotType == PivotType.Undefined \n",
    "            ? 0 \n",
    "            : double.Parse(columns[8]);\n",
    "        var record = new PriceInfo\n",
    "        (\n",
    "            Date: DateTime.ParseExact(columns[0], \"yyyy-MM-dd HH:mm:ss\", CultureInfo.InvariantCulture),\n",
    "            Open: double.Parse(columns[1]),\n",
    "            High: double.Parse(columns[2]),\n",
    "            Low: double.Parse(columns[3]),\n",
    "            Close: double.Parse(columns[4]),\n",
    "            ChannelLow: double.Parse(columns[5]),\n",
    "            ChannelHigh: double.Parse(columns[6]),\n",
    "            PivotType: pivotType,\n",
    "            PivotValue: pivotValue\n",
    "        );\n",
    "        records.Add(record);\n",
    "    }\n",
    "    return records;\n",
    "}"
   ]
  },
  {
   "cell_type": "code",
   "execution_count": 9,
   "metadata": {
    "dotnet_interactive": {
     "language": "csharp"
    },
    "polyglot_notebook": {
     "kernelName": "csharp"
    }
   },
   "outputs": [
    {
     "data": {
      "text/html": [
       "<div><div></div><div></div><div><strong>Installed Packages</strong><ul><li><span>XPlot.Plotly, 4.0.6</span></li></ul></div></div>"
      ]
     },
     "metadata": {},
     "output_type": "display_data"
    }
   ],
   "source": [
    "#r \"nuget: XPlot.Plotly, 4.0.6\"\n",
    "using XPlot.Plotly;\n",
    "\n",
    "\n",
    "\n",
    "var targetFile = Environment.CurrentDirectory + \"/breakout.csv\";\n",
    "var records = ParseCsv(targetFile);\n",
    "\n",
    "var candlestickData = new Candlestick\n",
    "{\n",
    "    x = records.Select(r => r.Date.ToString(\"yyyy-MM-dd HH:mm:ss\")).ToArray(),\n",
    "    open = records.Select(r => r.Open).ToArray(),\n",
    "    high = records.Select(r => r.High).ToArray(),\n",
    "    low = records.Select(r => r.Low).ToArray(),\n",
    "    close = records.Select(r => r.Close).ToArray(),\n",
    "    name = \"Candlestick\"\n",
    "};\n",
    "\n",
    "var pivotPointsHigh = records.Where(r => r.PivotType == PivotType.High).ToList();\n",
    "var pivotPointsLow = records.Where(r => r.PivotType == PivotType.Low).ToList();\n",
    "\n",
    "var pivotHigh = new Scatter\n",
    "{\n",
    "    x = pivotPointsHigh.Select(r => r.Date.ToString(\"yyyy-MM-dd HH:mm:ss\")).ToArray(),\n",
    "    y = pivotPointsHigh.Select(r => r.PivotValue).ToArray(),\n",
    "    mode = \"markers\",\n",
    "    marker = new Marker\n",
    "    {\n",
    "        color = \"Green\",\n",
    "        size = 10\n",
    "    },\n",
    "    name = \"Pivot High\"\n",
    "};\n",
    "\n",
    "var pivotLow = new Scatter\n",
    "{\n",
    "    x = pivotPointsLow.Select(r => r.Date.ToString(\"yyyy-MM-dd HH:mm:ss\")).ToArray(),\n",
    "    y = pivotPointsLow.Select(r => r.PivotValue).ToArray(),\n",
    "    mode = \"markers\",\n",
    "    marker = new Marker\n",
    "    {\n",
    "        color = \"Red\",\n",
    "        size = 10\n",
    "    },\n",
    "    name = \"Pivot Low\"\n",
    "};\n",
    "\n",
    "var chart = Chart.Plot(new Trace[] { candlestickData, pivotHigh, pivotLow });\n",
    "chart.WithLayout(new Layout.Layout\n",
    "{\n",
    "    title = \"Breakout Analysis\",\n",
    "    xaxis = new Xaxis { title = \"Date\" },\n",
    "    yaxis = new Yaxis { title = \"Price\" }\n",
    "});\n",
    "\n",
    "chart.Show();\n",
    "\n",
    "\n",
    "\n"
   ]
  }
 ],
 "metadata": {
  "kernelspec": {
   "display_name": ".NET (C#)",
   "language": "C#",
   "name": ".net-csharp"
  },
  "language_info": {
   "name": "polyglot-notebook"
  },
  "polyglot_notebook": {
   "kernelInfo": {
    "defaultKernelName": "csharp",
    "items": [
     {
      "aliases": [],
      "name": "csharp"
     }
    ]
   }
  }
 },
 "nbformat": 4,
 "nbformat_minor": 2
}
